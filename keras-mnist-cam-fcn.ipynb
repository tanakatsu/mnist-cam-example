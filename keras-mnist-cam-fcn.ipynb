{
 "cells": [
  {
   "cell_type": "markdown",
   "metadata": {},
   "source": [
    "### Class Activation Map (Fully Convolutional Net)"
   ]
  },
  {
   "cell_type": "code",
   "execution_count": 1,
   "metadata": {},
   "outputs": [],
   "source": [
    "%matplotlib inline"
   ]
  },
  {
   "cell_type": "code",
   "execution_count": 2,
   "metadata": {},
   "outputs": [
    {
     "name": "stderr",
     "output_type": "stream",
     "text": [
      "Using TensorFlow backend.\n"
     ]
    }
   ],
   "source": [
    "from __future__ import print_function\n",
    "import keras\n",
    "from keras.datasets import mnist\n",
    "from keras.models import Sequential\n",
    "from keras.layers import Dense, Dropout, Flatten, Activation\n",
    "from keras.layers import Conv2D, MaxPooling2D, GlobalAveragePooling2D\n",
    "from keras import backend as K\n",
    "\n",
    "import numpy as np\n",
    "import matplotlib.pyplot as plt\n",
    "import scipy"
   ]
  },
  {
   "cell_type": "code",
   "execution_count": 3,
   "metadata": {},
   "outputs": [],
   "source": [
    "batch_size = 128\n",
    "num_classes = 10\n",
    "epochs = 12\n",
    "# epochs = 1"
   ]
  },
  {
   "cell_type": "code",
   "execution_count": 4,
   "metadata": {},
   "outputs": [],
   "source": [
    "# input image dimensions\n",
    "img_rows, img_cols = 28, 28\n",
    "\n",
    "# the data, shuffled and split between train and test sets\n",
    "(x_train, y_train), (x_test, y_test) = mnist.load_data()"
   ]
  },
  {
   "cell_type": "code",
   "execution_count": 5,
   "metadata": {},
   "outputs": [],
   "source": [
    "if K.image_data_format() == 'channels_first':\n",
    "    x_train = x_train.reshape(x_train.shape[0], 1, img_rows, img_cols)\n",
    "    x_test = x_test.reshape(x_test.shape[0], 1, img_rows, img_cols)\n",
    "    input_shape = (1, img_rows, img_cols)\n",
    "else:\n",
    "    x_train = x_train.reshape(x_train.shape[0], img_rows, img_cols, 1)\n",
    "    x_test = x_test.reshape(x_test.shape[0], img_rows, img_cols, 1)\n",
    "    input_shape = (img_rows, img_cols, 1)"
   ]
  },
  {
   "cell_type": "code",
   "execution_count": 6,
   "metadata": {},
   "outputs": [
    {
     "name": "stdout",
     "output_type": "stream",
     "text": [
      "x_train shape: (60000, 28, 28, 1)\n",
      "60000 train samples\n",
      "10000 test samples\n"
     ]
    }
   ],
   "source": [
    "x_train = x_train.astype('float32')\n",
    "x_test = x_test.astype('float32')\n",
    "x_train /= 255\n",
    "x_test /= 255\n",
    "\n",
    "print('x_train shape:', x_train.shape)\n",
    "print(x_train.shape[0], 'train samples')\n",
    "print(x_test.shape[0], 'test samples')"
   ]
  },
  {
   "cell_type": "code",
   "execution_count": 7,
   "metadata": {},
   "outputs": [],
   "source": [
    "# convert class vectors to binary class matrices\n",
    "y_train = keras.utils.to_categorical(y_train, num_classes)\n",
    "y_test = keras.utils.to_categorical(y_test, num_classes)"
   ]
  },
  {
   "cell_type": "code",
   "execution_count": 8,
   "metadata": {},
   "outputs": [],
   "source": [
    "model = Sequential()\n",
    "model.add(Conv2D(8, kernel_size=(3,3), padding='same', activation='relu', input_shape=input_shape))\n",
    "model.add(Conv2D(8, (3, 3), activation='relu', padding='same'))\n",
    "model.add(MaxPooling2D(pool_size=(2,2)))\n",
    "model.add(Conv2D(64, (3, 3), activation='relu', padding='same'))\n",
    "model.add(Conv2D(64, (3, 3), activation='relu', padding='same'))\n",
    "model.add(Conv2D(num_classes, (3, 3), activation='relu', padding='same'))\n",
    "model.add(GlobalAveragePooling2D())\n",
    "model.add(Activation('softmax'))"
   ]
  },
  {
   "cell_type": "code",
   "execution_count": 9,
   "metadata": {},
   "outputs": [
    {
     "name": "stdout",
     "output_type": "stream",
     "text": [
      "_________________________________________________________________\n",
      "Layer (type)                 Output Shape              Param #   \n",
      "=================================================================\n",
      "conv2d_1 (Conv2D)            (None, 28, 28, 8)         80        \n",
      "_________________________________________________________________\n",
      "conv2d_2 (Conv2D)            (None, 28, 28, 8)         584       \n",
      "_________________________________________________________________\n",
      "max_pooling2d_1 (MaxPooling2 (None, 14, 14, 8)         0         \n",
      "_________________________________________________________________\n",
      "conv2d_3 (Conv2D)            (None, 14, 14, 64)        4672      \n",
      "_________________________________________________________________\n",
      "conv2d_4 (Conv2D)            (None, 14, 14, 64)        36928     \n",
      "_________________________________________________________________\n",
      "conv2d_5 (Conv2D)            (None, 14, 14, 10)        5770      \n",
      "_________________________________________________________________\n",
      "global_average_pooling2d_1 ( (None, 10)                0         \n",
      "_________________________________________________________________\n",
      "activation_1 (Activation)    (None, 10)                0         \n",
      "=================================================================\n",
      "Total params: 48,034\n",
      "Trainable params: 48,034\n",
      "Non-trainable params: 0\n",
      "_________________________________________________________________\n"
     ]
    }
   ],
   "source": [
    "model.summary()"
   ]
  },
  {
   "cell_type": "code",
   "execution_count": 10,
   "metadata": {},
   "outputs": [],
   "source": [
    "model.compile(loss=keras.losses.categorical_crossentropy, optimizer=keras.optimizers.Adadelta(), metrics=['accuracy'])"
   ]
  },
  {
   "cell_type": "code",
   "execution_count": 11,
   "metadata": {},
   "outputs": [
    {
     "name": "stdout",
     "output_type": "stream",
     "text": [
      "Train on 60000 samples, validate on 10000 samples\n",
      "Epoch 1/12\n",
      "60000/60000 [==============================] - 134s 2ms/step - loss: 1.3456 - acc: 0.5380 - val_loss: 0.4952 - val_acc: 0.8380\n",
      "Epoch 2/12\n",
      "60000/60000 [==============================] - 134s 2ms/step - loss: 0.3022 - acc: 0.9099 - val_loss: 0.2384 - val_acc: 0.9239\n",
      "Epoch 3/12\n",
      "60000/60000 [==============================] - 138s 2ms/step - loss: 0.1814 - acc: 0.9451 - val_loss: 0.1386 - val_acc: 0.9566\n",
      "Epoch 4/12\n",
      "60000/60000 [==============================] - 136s 2ms/step - loss: 0.1372 - acc: 0.9582 - val_loss: 0.1076 - val_acc: 0.9647\n",
      "Epoch 5/12\n",
      "60000/60000 [==============================] - 138s 2ms/step - loss: 0.1129 - acc: 0.9658 - val_loss: 0.0921 - val_acc: 0.9689\n",
      "Epoch 6/12\n",
      "60000/60000 [==============================] - 142s 2ms/step - loss: 0.0965 - acc: 0.9709 - val_loss: 0.0897 - val_acc: 0.9715\n",
      "Epoch 7/12\n",
      "60000/60000 [==============================] - 142s 2ms/step - loss: 0.0823 - acc: 0.9748 - val_loss: 0.1147 - val_acc: 0.9637\n",
      "Epoch 8/12\n",
      "60000/60000 [==============================] - 147s 2ms/step - loss: 0.0753 - acc: 0.9763 - val_loss: 0.0658 - val_acc: 0.9778\n",
      "Epoch 9/12\n",
      "60000/60000 [==============================] - 146s 2ms/step - loss: 0.0663 - acc: 0.9796 - val_loss: 0.0808 - val_acc: 0.9732\n",
      "Epoch 10/12\n",
      "60000/60000 [==============================] - 152s 3ms/step - loss: 0.0614 - acc: 0.9815 - val_loss: 0.0575 - val_acc: 0.9820\n",
      "Epoch 11/12\n",
      "60000/60000 [==============================] - 152s 3ms/step - loss: 0.0565 - acc: 0.9825 - val_loss: 0.0485 - val_acc: 0.9846\n",
      "Epoch 12/12\n",
      "60000/60000 [==============================] - 153s 3ms/step - loss: 0.0526 - acc: 0.9836 - val_loss: 0.0611 - val_acc: 0.9805\n"
     ]
    },
    {
     "data": {
      "text/plain": [
       "<keras.callbacks.History at 0x120239828>"
      ]
     },
     "execution_count": 11,
     "metadata": {},
     "output_type": "execute_result"
    }
   ],
   "source": [
    "model.fit(x_train, y_train, batch_size=batch_size, epochs=epochs, verbose=1, validation_data=(x_test, y_test))"
   ]
  },
  {
   "cell_type": "code",
   "execution_count": 12,
   "metadata": {
    "scrolled": true
   },
   "outputs": [
    {
     "data": {
      "text/plain": [
       "[<keras.layers.convolutional.Conv2D at 0x120255588>,\n",
       " <keras.layers.convolutional.Conv2D at 0x120067160>,\n",
       " <keras.layers.pooling.MaxPooling2D at 0x120255710>,\n",
       " <keras.layers.convolutional.Conv2D at 0x123714710>,\n",
       " <keras.layers.convolutional.Conv2D at 0x123714da0>,\n",
       " <keras.layers.convolutional.Conv2D at 0x102840390>,\n",
       " <keras.layers.pooling.GlobalAveragePooling2D at 0x102852908>,\n",
       " <keras.layers.core.Activation at 0x12eb62f60>]"
      ]
     },
     "execution_count": 12,
     "metadata": {},
     "output_type": "execute_result"
    }
   ],
   "source": [
    "l = model.layers\n",
    "l"
   ]
  },
  {
   "cell_type": "code",
   "execution_count": 13,
   "metadata": {},
   "outputs": [],
   "source": [
    "conv_fn = K.function([l[0].input], [l[-3].output]) # Get output of last convolution layer"
   ]
  },
  {
   "cell_type": "code",
   "execution_count": 14,
   "metadata": {},
   "outputs": [],
   "source": [
    "inp = np.expand_dims(x_test[0], 0) # (28, 28, 1) -> (1, 28, 28, 1)"
   ]
  },
  {
   "cell_type": "code",
   "execution_count": 15,
   "metadata": {},
   "outputs": [
    {
     "data": {
      "text/plain": [
       "7"
      ]
     },
     "execution_count": 15,
     "metadata": {},
     "output_type": "execute_result"
    }
   ],
   "source": [
    "np.argmax(y_test[0])"
   ]
  },
  {
   "cell_type": "code",
   "execution_count": 18,
   "metadata": {},
   "outputs": [],
   "source": [
    "# Create the class activation map.\n",
    "def get_cam(inp, target_class_num):\n",
    "    conv_outputs  = conv_fn([inp])[0] # (1, 14, 14, 10)\n",
    "    cam = conv_outputs[0, :, :, target_class_num] # (1, 14, 14, 10) -> (14, 14)\n",
    "    return cam"
   ]
  },
  {
   "cell_type": "code",
   "execution_count": 19,
   "metadata": {
    "scrolled": true
   },
   "outputs": [
    {
     "name": "stderr",
     "output_type": "stream",
     "text": [
      "/Users/tsuyoshi/anaconda3/envs/py36/lib/python3.6/site-packages/ipykernel_launcher.py:1: DeprecationWarning: `imresize` is deprecated!\n",
      "`imresize` is deprecated in SciPy 1.0.0, and will be removed in 1.3.0.\n",
      "Use Pillow instead: ``numpy.array(Image.fromarray(arr).resize())``.\n",
      "  \"\"\"Entry point for launching an IPython kernel.\n"
     ]
    }
   ],
   "source": [
    "cam_img = scipy.misc.imresize(get_cam(inp, np.argmax(y_test[0])), (28, 28), interp='nearest')"
   ]
  },
  {
   "cell_type": "code",
   "execution_count": 20,
   "metadata": {
    "scrolled": true
   },
   "outputs": [
    {
     "data": {
      "text/plain": [
       "<matplotlib.image.AxesImage at 0x12f567080>"
      ]
     },
     "execution_count": 20,
     "metadata": {},
     "output_type": "execute_result"
    },
    {
     "data": {
      "image/png": "[encoded data removed]",
      "text/plain": [
       "<Figure size 432x288 with 2 Axes>"
      ]
     },
     "metadata": {},
     "output_type": "display_data"
    }
   ],
   "source": [
    "plt.subplot(1, 2, 1)\n",
    "plt.imshow(np.squeeze(inp[0]), cmap='gray')\n",
    "\n",
    "plt.subplot(1, 2, 2)\n",
    "# plt.imshow(cam_img, cmap='cool')\n",
    "plt.imshow(cam_img, cmap='RdYlBu_r')"
   ]
  },
  {
   "cell_type": "code",
   "execution_count": 21,
   "metadata": {},
   "outputs": [],
   "source": [
    "y_preds = model.predict(x_test)"
   ]
  },
  {
   "cell_type": "code",
   "execution_count": 22,
   "metadata": {},
   "outputs": [],
   "source": [
    "correct = (np.argmax(y_test, axis=1) == np.argmax(y_preds, axis=1))"
   ]
  },
  {
   "cell_type": "code",
   "execution_count": 25,
   "metadata": {},
   "outputs": [
    {
     "name": "stderr",
     "output_type": "stream",
     "text": [
      "/Users/tsuyoshi/anaconda3/envs/py36/lib/python3.6/site-packages/ipykernel_launcher.py:16: DeprecationWarning: `imresize` is deprecated!\n",
      "`imresize` is deprecated in SciPy 1.0.0, and will be removed in 1.3.0.\n",
      "Use Pillow instead: ``numpy.array(Image.fromarray(arr).resize())``.\n",
      "  app.launch_new_instance()\n",
      "/Users/tsuyoshi/anaconda3/envs/py36/lib/python3.6/site-packages/matplotlib/cbook/deprecation.py:107: MatplotlibDeprecationWarning: Adding an axes using the same arguments as a previous axes currently reuses the earlier instance.  In a future version, a new instance will always be created and returned.  Meanwhile, this warning can be suppressed, and the future behavior ensured, by passing a unique label to each axes instance.\n",
      "  warnings.warn(message, mplDeprecation, stacklevel=1)\n"
     ]
    },
    {
     "data": {
      "image/png": "[encoded data removed]",
      "text/plain": [
       "<Figure size 216x576 with 16 Axes>"
      ]
     },
     "metadata": {},
     "output_type": "display_data"
    }
   ],
   "source": [
    "# Input and its activations for truth class\n",
    "plt.figure(figsize=(3,  8))\n",
    "n_output = 8\n",
    "\n",
    "for i in range(n_output):\n",
    "    target_num_indices = np.where(correct)[0]\n",
    "    x = x_test[target_num_indices, :, :, :][i]\n",
    "    x = np.expand_dims(x, 0) \n",
    "     \n",
    "    plt.subplot(n_output, 2, i * 2 + 1)\n",
    "    plt.imshow(np.squeeze(x), cmap='gray')\n",
    "    plt.xticks([])\n",
    "    plt.yticks([])\n",
    "        \n",
    "    for target_class in range(num_classes):    \n",
    "        cam_img = scipy.misc.imresize(get_cam(x, target_class),  (28, 28), interp='nearest')\n",
    "    \n",
    "        plt.subplot(n_output, 2, i * 2 + 2)\n",
    "        plt.imshow(cam_img, cmap='RdYlBu_r')\n",
    "        plt.xticks([])\n",
    "        plt.yticks([])"
   ]
  }
 ],
 "metadata": {
  "kernelspec": {
   "display_name": "Python 3",
   "language": "python",
   "name": "python3"
  },
  "language_info": {
   "codemirror_mode": {
    "name": "ipython",
    "version": 3
   },
   "file_extension": ".py",
   "mimetype": "text/x-python",
   "name": "python",
   "nbconvert_exporter": "python",
   "pygments_lexer": "ipython3",
   "version": "3.6.4"
  }
 },
 "nbformat": 4,
 "nbformat_minor": 2
}
